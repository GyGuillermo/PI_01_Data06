{
 "cells": [
  {
   "cell_type": "code",
   "execution_count": 1,
   "metadata": {},
   "outputs": [],
   "source": [
    "#Importamos las librerias\n",
    "import os\n",
    "import csv\n",
    "import pandas as pd\n",
    "import polars as pl\n",
    "import numpy as np\n",
    "import datetime"
   ]
  },
  {
   "cell_type": "code",
   "execution_count": 2,
   "metadata": {},
   "outputs": [],
   "source": [
    "# Datasets\n",
    "file_list = ['Datasets/amazon_prime_titles-score.csv', 'Datasets/disney_plus_titles-score.csv', 'Datasets/hulu_titles-score (2).csv', 'Datasets/netflix_titles-score.csv']\n",
    "\n",
    "# Se realizan las transformaciones solicitadas\n",
    "data = pd.DataFrame()\n",
    "\n",
    "# Se iteran los archivos csv del directorio Datasets\n",
    "for file in file_list:\n",
    "    file_name = os.path.basename(file)\n",
    "\n",
    "    #Se toma el prefijo de cada plataforma\n",
    "    file_prefix = file_name[0]\n",
    "\n",
    "    # Se lee el archivo\n",
    "    df = pd.read_csv(file)\n",
    "\n",
    "    # Se realiza la primera trasnformacion\n",
    "    df['id'] = file_prefix + df['show_id']\n",
    "\n",
    "    # Se rellenan los nulos del rating\n",
    "    df['rating'].fillna('G', inplace=True)\n",
    "\n",
    "    # Se transforman las fechas\n",
    "    df['date_added'] = pd.to_datetime(df['date_added']).dt.strftime('%Y-%m-%d')\n",
    "\n",
    "    # Se convierte a minuscula todos los campos texto\n",
    "    df = df.apply(lambda x: x.astype(str).str.lower())\n",
    "\n",
    "    # Se divide la columna 'duration' para obtener una columna cuantitativa y otra categorica\n",
    "    cat = df['duration'].str.split(\" \", n = 1, expand =True) \n",
    "    df['duration_int']= cat[0] \n",
    "    df['duration_type']= cat[1] \n",
    "    # Se reemplazan los valores nulos por 0\n",
    "    df['duration_int'] = pd.to_numeric(df['duration_int'], errors='coerce')\n",
    "    df['duration_int'].fillna(value=0,inplace=True)\n",
    "    # Se convierte a entero\n",
    "    df = df.astype({\"duration_int\": int})\n",
    "\n",
    "    # Transformaciones que se realizan para evitar errores\n",
    "    df['score'] = pd.to_numeric(df[\"score\"], errors='coerce')\n",
    "    df[\"date_added\"] = pd.to_datetime(df[\"date_added\"], errors='coerce')\n",
    "    df[\"release_year\"] = pd.to_numeric(df[\"release_year\"], errors='coerce')\n",
    "\n",
    "      \n",
    "    # Se van agregando los datasets a un dataset consolidado gral, para ser utilizado en las consultas de la fastapi\n",
    "    data = pd.concat([data, df], ignore_index=True)"
   ]
  },
  {
   "cell_type": "code",
   "execution_count": 3,
   "metadata": {},
   "outputs": [
    {
     "data": {
      "text/plain": [
       "show_id                  object\n",
       "type                     object\n",
       "title                    object\n",
       "director                 object\n",
       "cast                     object\n",
       "country                  object\n",
       "date_added       datetime64[ns]\n",
       "release_year              int64\n",
       "rating                   object\n",
       "duration                 object\n",
       "listed_in                object\n",
       "description              object\n",
       "score                     int64\n",
       "id                       object\n",
       "duration_int              int64\n",
       "duration_type            object\n",
       "dtype: object"
      ]
     },
     "execution_count": 3,
     "metadata": {},
     "output_type": "execute_result"
    }
   ],
   "source": [
    "data.dtypes"
   ]
  },
  {
   "cell_type": "code",
   "execution_count": 4,
   "metadata": {},
   "outputs": [
    {
     "data": {
      "text/html": [
       "<div>\n",
       "<style scoped>\n",
       "    .dataframe tbody tr th:only-of-type {\n",
       "        vertical-align: middle;\n",
       "    }\n",
       "\n",
       "    .dataframe tbody tr th {\n",
       "        vertical-align: top;\n",
       "    }\n",
       "\n",
       "    .dataframe thead th {\n",
       "        text-align: right;\n",
       "    }\n",
       "</style>\n",
       "<table border=\"1\" class=\"dataframe\">\n",
       "  <thead>\n",
       "    <tr style=\"text-align: right;\">\n",
       "      <th></th>\n",
       "      <th>show_id</th>\n",
       "      <th>type</th>\n",
       "      <th>title</th>\n",
       "      <th>director</th>\n",
       "      <th>cast</th>\n",
       "      <th>country</th>\n",
       "      <th>date_added</th>\n",
       "      <th>release_year</th>\n",
       "      <th>rating</th>\n",
       "      <th>duration</th>\n",
       "      <th>listed_in</th>\n",
       "      <th>description</th>\n",
       "      <th>score</th>\n",
       "      <th>id</th>\n",
       "      <th>duration_int</th>\n",
       "      <th>duration_type</th>\n",
       "    </tr>\n",
       "  </thead>\n",
       "  <tbody>\n",
       "    <tr>\n",
       "      <th>22996</th>\n",
       "      <td>s8806</td>\n",
       "      <td>movie</td>\n",
       "      <td>zoom</td>\n",
       "      <td>peter hewitt</td>\n",
       "      <td>tim allen, courteney cox, chevy chase, kate ma...</td>\n",
       "      <td>united states</td>\n",
       "      <td>2020-01-11</td>\n",
       "      <td>2006</td>\n",
       "      <td>pg</td>\n",
       "      <td>88 min</td>\n",
       "      <td>children &amp; family movies, comedies</td>\n",
       "      <td>dragged from civilian life, a former superhero...</td>\n",
       "      <td>7</td>\n",
       "      <td>ns8806</td>\n",
       "      <td>88</td>\n",
       "      <td>min</td>\n",
       "    </tr>\n",
       "    <tr>\n",
       "      <th>22997</th>\n",
       "      <td>s8807</td>\n",
       "      <td>movie</td>\n",
       "      <td>zubaan</td>\n",
       "      <td>mozez singh</td>\n",
       "      <td>vicky kaushal, sarah-jane dias, raaghav chanan...</td>\n",
       "      <td>india</td>\n",
       "      <td>2019-03-02</td>\n",
       "      <td>2015</td>\n",
       "      <td>tv-14</td>\n",
       "      <td>111 min</td>\n",
       "      <td>dramas, international movies, music &amp; musicals</td>\n",
       "      <td>a scrappy but poor boy worms his way into a ty...</td>\n",
       "      <td>44</td>\n",
       "      <td>ns8807</td>\n",
       "      <td>111</td>\n",
       "      <td>min</td>\n",
       "    </tr>\n",
       "  </tbody>\n",
       "</table>\n",
       "</div>"
      ],
      "text/plain": [
       "      show_id   type   title      director  \\\n",
       "22996   s8806  movie    zoom  peter hewitt   \n",
       "22997   s8807  movie  zubaan   mozez singh   \n",
       "\n",
       "                                                    cast        country  \\\n",
       "22996  tim allen, courteney cox, chevy chase, kate ma...  united states   \n",
       "22997  vicky kaushal, sarah-jane dias, raaghav chanan...          india   \n",
       "\n",
       "      date_added  release_year rating duration  \\\n",
       "22996 2020-01-11          2006     pg   88 min   \n",
       "22997 2019-03-02          2015  tv-14  111 min   \n",
       "\n",
       "                                            listed_in  \\\n",
       "22996              children & family movies, comedies   \n",
       "22997  dramas, international movies, music & musicals   \n",
       "\n",
       "                                             description  score      id  \\\n",
       "22996  dragged from civilian life, a former superhero...      7  ns8806   \n",
       "22997  a scrappy but poor boy worms his way into a ty...     44  ns8807   \n",
       "\n",
       "       duration_int duration_type  \n",
       "22996            88           min  \n",
       "22997           111           min  "
      ]
     },
     "execution_count": 4,
     "metadata": {},
     "output_type": "execute_result"
    }
   ],
   "source": [
    "data.tail(2)"
   ]
  },
  {
   "cell_type": "code",
   "execution_count": 5,
   "metadata": {},
   "outputs": [],
   "source": [
    "# Se guarda el dataframe en un csv que va utilizar fastapi para realizar las consultas y como resguardo\n",
    "data.to_csv('data_concatenada.csv', encoding='utf-8')"
   ]
  },
  {
   "attachments": {},
   "cell_type": "markdown",
   "metadata": {},
   "source": [
    "Declaración de las funciones requeridas y sus respectivos testeos."
   ]
  },
  {
   "attachments": {},
   "cell_type": "markdown",
   "metadata": {},
   "source": [
    "1 - Cantidad de veces que aparece una keyword en el título de peliculas/series, por plataforma"
   ]
  },
  {
   "cell_type": "code",
   "execution_count": 6,
   "metadata": {},
   "outputs": [],
   "source": [
    "def search_by_keyword(plataforma: str, keyword: str):\n",
    "    \n",
    "    # Se filtra el dataframe para obtener los registros que comienzan con el primer caracter del parametro plataforma\n",
    "    result = data[data['id'].str.startswith(plataforma[0])]\n",
    "    \n",
    "    # Se filtra el dataframe según la keyword\n",
    "    filtered_df = result[result['title'].str.contains(keyword)]\n",
    "\n",
    "    #obtener la cantidad de veces que aparece la keyword en el título\n",
    "    count = len(filtered_df)\n",
    "\n",
    "    #imprimir el resultado\n",
    "    print(f'La keyword {keyword} aparece {count} veces en el título de películas/series.')\n",
    "    return {plataforma, count}"
   ]
  },
  {
   "cell_type": "code",
   "execution_count": 7,
   "metadata": {},
   "outputs": [
    {
     "name": "stdout",
     "output_type": "stream",
     "text": [
      "La keyword love aparece 196 veces en el título de películas/series.\n",
      "{'netflix', 196}\n"
     ]
    }
   ],
   "source": [
    "print(search_by_keyword('netflix','love'))"
   ]
  },
  {
   "attachments": {},
   "cell_type": "markdown",
   "metadata": {},
   "source": [
    "2 - Cantidad de películas por plataforma con un puntaje mayor a XX en determinado año"
   ]
  },
  {
   "cell_type": "code",
   "execution_count": 7,
   "metadata": {},
   "outputs": [],
   "source": [
    "def movie_for_platform(plataforma: str, puntaje: int, year: int):\n",
    "    \n",
    "    # Se filtra el dataframe para obtener los registros que comienzan con el primer caracter del parametro plataforma\n",
    "    filtered_data = data[(data['id'].str[0] == plataforma[0])] \n",
    "   \n",
    "    # Se filtra el dataframe según la keyword\n",
    "    filtered_data = filtered_data[(filtered_data['score'] > puntaje)] \n",
    "   \n",
    "    # Se filtra el dataframe según el año\n",
    "    filtered_data = filtered_data[(filtered_data['release_year'] == year)]\n",
    "    \n",
    "    return {\"cantidad de peliculas\": len(filtered_data)}"
   ]
  },
  {
   "cell_type": "code",
   "execution_count": 8,
   "metadata": {},
   "outputs": [
    {
     "name": "stdout",
     "output_type": "stream",
     "text": [
      "{'cantidad de peliculas': 25}\n"
     ]
    }
   ],
   "source": [
    "print(movie_for_platform('netflix',85,2010))"
   ]
  },
  {
   "attachments": {},
   "cell_type": "markdown",
   "metadata": {},
   "source": [
    "3 - La segunda película con mayor score para una plataforma determinada, según el orden alfabético de los títulos."
   ]
  },
  {
   "cell_type": "code",
   "execution_count": 14,
   "metadata": {},
   "outputs": [],
   "source": [
    "def get_second_highest_movie_by_platform(plataforma: str):\n",
    "   \n",
    "   # Se filtra el dataframe para obtener los registros que comienzan con el primer caracter del parametro plataforma\n",
    "    filtered_df = data[data['id'].str.startswith(plataforma[0])]\n",
    "    \n",
    "    #ordenar el dataframe según la columna 'title' de forma ascendente\n",
    "    sorted_df = filtered_df.sort_values(by='score', ascending=False)\n",
    "    \n",
    "    #obtener la segunda película con el mayor score\n",
    "    second_highest_score = sorted_df.iloc[1]['score']\n",
    "    titulo = sorted_df.iloc[1][\"title\"] \n",
    "\n",
    "    return {\"Plataforma \":plataforma,\"Titulo  \":titulo,\"Score  \":second_highest_score}\n"
   ]
  },
  {
   "cell_type": "code",
   "execution_count": 15,
   "metadata": {},
   "outputs": [
    {
     "name": "stdout",
     "output_type": "stream",
     "text": [
      "{'Plataforma ': 'amazon', 'Titulo  ': 'the lazarus effect', 'Score  ': 100}\n"
     ]
    }
   ],
   "source": [
    "print(get_second_highest_movie_by_platform('amazon'))"
   ]
  },
  {
   "attachments": {},
   "cell_type": "markdown",
   "metadata": {},
   "source": [
    "4 - Película que más duró según año, plataforma y tipo de duración"
   ]
  },
  {
   "cell_type": "code",
   "execution_count": 17,
   "metadata": {},
   "outputs": [],
   "source": [
    "\n",
    "def longest_movie( platform, duration_type, year,):\n",
    "    \n",
    "    # Se filtra el DataFrame para obtener solo las filas con el año, plataforma y tipo de duración específicos\n",
    "    filtered_data = data.query(\"release_year == @year and id.str[0] == @platform[0] and duration_type == @duration_type\")\n",
    "   \n",
    "    # Se ordena el DataFrame filtrado por la duración\n",
    "    filtered_data = filtered_data.sort_values(by='duration_int', ascending=False)\n",
    "   \n",
    "    #Se valida si hay alguna pelicula con los criterios especificados\n",
    "    if filtered_data.empty:\n",
    "      return None\n",
    "    else:\n",
    "      # Se devuelve el título y la fila completa de la película\n",
    "      title = filtered_data.iloc[0]['title']\n",
    "      duration = filtered_data.iloc[0]['duration_int']\n",
    "      return {\"Titulo  \":title, \"Duration  \": duration}\n"
   ]
  },
  {
   "cell_type": "code",
   "execution_count": 18,
   "metadata": {},
   "outputs": [
    {
     "name": "stdout",
     "output_type": "stream",
     "text": [
      "{'Titulo  ': 'sairat', 'Duration  ': 173}\n"
     ]
    }
   ],
   "source": [
    "print(longest_movie('netflix','min',2016))"
   ]
  },
  {
   "attachments": {},
   "cell_type": "markdown",
   "metadata": {},
   "source": [
    "5 - Cantidad de series y películas por rating"
   ]
  },
  {
   "cell_type": "code",
   "execution_count": 128,
   "metadata": {},
   "outputs": [],
   "source": [
    "def count_shows_movies_by_classification(classification):\n",
    "    # Se filtra el DataFrame para obtener solo las filas con la clasificación específica\n",
    "    filtered_data = data.query(\"rating == @classification\")\n",
    "    # Se cuenta la cantidad de filas en el DataFrame filtrado\n",
    "    count = filtered_data.size\n",
    "    return count\n"
   ]
  },
  {
   "cell_type": "code",
   "execution_count": 129,
   "metadata": {},
   "outputs": [
    {
     "name": "stdout",
     "output_type": "stream",
     "text": [
      "19888\n"
     ]
    }
   ],
   "source": [
    "print(count_shows_movies_by_classification('18+'))"
   ]
  }
 ],
 "metadata": {
  "kernelspec": {
   "display_name": "Python 3",
   "language": "python",
   "name": "python3"
  },
  "language_info": {
   "codemirror_mode": {
    "name": "ipython",
    "version": 3
   },
   "file_extension": ".py",
   "mimetype": "text/x-python",
   "name": "python",
   "nbconvert_exporter": "python",
   "pygments_lexer": "ipython3",
   "version": "3.10.6 (main, Nov 14 2022, 16:10:14) [GCC 11.3.0]"
  },
  "orig_nbformat": 4,
  "vscode": {
   "interpreter": {
    "hash": "916dbcbb3f70747c44a77c7bcd40155683ae19c65e1c03b4aa3499c5328201f1"
   }
  }
 },
 "nbformat": 4,
 "nbformat_minor": 2
}
